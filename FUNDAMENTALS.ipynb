{
 "cells": [
  {
   "cell_type": "markdown",
   "id": "7af7ebbb",
   "metadata": {},
   "source": [
    "## A Program that compares two numbers and gives its exponent value"
   ]
  },
  {
   "cell_type": "code",
   "execution_count": 4,
   "id": "ac1e5770",
   "metadata": {
    "scrolled": true
   },
   "outputs": [
    {
     "name": "stdout",
     "output_type": "stream",
     "text": [
      "Enter the first number 3\n",
      "Enter the second number 2\n",
      "The bigger number is  3 .\n",
      "Exponent =  9\n"
     ]
    }
   ],
   "source": [
    "x=int(input(\"Enter the first number \"))\n",
    "y=int(input(\"Enter the second number \"))\n",
    "\n",
    "if x>y:\n",
    "    print(\"The bigger number is \",x,\".\")\n",
    "elif x==y:\n",
    "    print(\"Both \",x,\" & \",y,\" are the same value.\")\n",
    "else:\n",
    "    print(f\"The bigger number is {y}.\")\n",
    "\n",
    "    \n",
    "exp=x**y\n",
    "print(\"Exponent = \",exp)"
   ]
  },
  {
   "cell_type": "markdown",
   "id": "a84cce06",
   "metadata": {},
   "source": [
    "## A Program that reverses the entered string"
   ]
  },
  {
   "cell_type": "code",
   "execution_count": 15,
   "id": "a9d6779e",
   "metadata": {},
   "outputs": [
    {
     "name": "stdout",
     "output_type": "stream",
     "text": [
      "Enter your name : \n",
      "rahul r nair\n",
      "Your name after reversing is : \n",
      "rian r luhar\n"
     ]
    }
   ],
   "source": [
    "name = input(\"Enter your name : \\n\")\n",
    "rev_name = name[::-1]\n",
    "print(\"Your name after reversing is : \\n\"+rev_name)"
   ]
  },
  {
   "cell_type": "markdown",
   "id": "bf90f395",
   "metadata": {},
   "source": [
    "## String Concatinations"
   ]
  },
  {
   "cell_type": "markdown",
   "id": "eb515205",
   "metadata": {},
   "source": [
    "#### The regular(+) method."
   ]
  },
  {
   "cell_type": "code",
   "execution_count": 3,
   "id": "acd5a868",
   "metadata": {},
   "outputs": [
    {
     "name": "stdout",
     "output_type": "stream",
     "text": [
      "My name is Bill\n",
      "My name is Bill\n"
     ]
    }
   ],
   "source": [
    "name = \"Bill\"\n",
    "print(\"My name is \"+name)  #using add sign\n",
    "print(\"My name is\", name)  #using comma"
   ]
  },
  {
   "cell_type": "markdown",
   "id": "3f0f477d",
   "metadata": {},
   "source": [
    "#### .format() method"
   ]
  },
  {
   "cell_type": "code",
   "execution_count": 11,
   "id": "19445743",
   "metadata": {},
   "outputs": [
    {
     "name": "stdout",
     "output_type": "stream",
     "text": [
      "My name is Bill, I am 18 years old and from Kochi\n",
      "\n",
      "I am from Kochi, my name is Bill and am 18 years old\n",
      "\n",
      "I am 18 years old, from Kochi & my name is Bill.\n"
     ]
    }
   ],
   "source": [
    "name = \"Bill\"\n",
    "age = 18\n",
    "place = \"Kochi\"\n",
    "\n",
    "print(\"My name is {}, I am {} years old and from {}\".format(name,age,place)) #wihtout using indexes for assignemt to {}\n",
    "\n",
    "print(\"\\nI am from {2}, my name is {0} and am {1} years old\".format(name,age,place))  #using indexes {1},{2} etc.\n",
    "\n",
    "print(\"\\nI am {a} years old, from {p} & my name is {n}.\".format(n=name,a=age,p=place)) #using assignment to element in func"
   ]
  },
  {
   "cell_type": "markdown",
   "id": "f6381cb2",
   "metadata": {},
   "source": [
    "#### F-strings method"
   ]
  },
  {
   "cell_type": "code",
   "execution_count": 12,
   "id": "d8829f34",
   "metadata": {},
   "outputs": [
    {
     "name": "stdout",
     "output_type": "stream",
     "text": [
      "Bill is 18 years old and from Thrissur.\n"
     ]
    }
   ],
   "source": [
    "name = \"Bill\"\n",
    "age = 18\n",
    "place = \"Thrissur\"\n",
    "\n",
    "print(f\"{name} is {age} years old and from {place}.\")  #uses an 'f' in front of the string and lets us pass the variables"
   ]
  },
  {
   "cell_type": "markdown",
   "id": "f0f859ae",
   "metadata": {},
   "source": [
    "## Lists"
   ]
  },
  {
   "cell_type": "code",
   "execution_count": 34,
   "id": "2b224d9d",
   "metadata": {},
   "outputs": [
    {
     "name": "stdout",
     "output_type": "stream",
     "text": [
      "['dennis', 'yadu', 'vignesh', 'sahal', 'abhinand', 'abhay']\n"
     ]
    }
   ],
   "source": [
    "name_list = [\"dennis\", \"yadu\", \"vignesh\", \"sahal\", \"abhinand\", \"abhay\"]\n",
    "print(name_list)"
   ]
  },
  {
   "cell_type": "code",
   "execution_count": 52,
   "id": "f7c089b9",
   "metadata": {},
   "outputs": [
    {
     "name": "stdout",
     "output_type": "stream",
     "text": [
      "[1, 2, 3, 4, 5, 6, 7, 8, 9]\n"
     ]
    }
   ],
   "source": [
    "num_list = [1,2,3,4,5,6,7,8,9]\n",
    "print(num_list)"
   ]
  },
  {
   "cell_type": "markdown",
   "id": "1604a710",
   "metadata": {},
   "source": [
    "### Concatinating two lists"
   ]
  },
  {
   "cell_type": "code",
   "execution_count": 39,
   "id": "41001fa9",
   "metadata": {},
   "outputs": [
    {
     "name": "stdout",
     "output_type": "stream",
     "text": [
      "[1, 2, 3, 4, 5, 6, 7, 8, 9, 'dennis', 'yadu', 'vignesh', 'sahal', 'abhinand', 'abhay']\n"
     ]
    }
   ],
   "source": [
    "new_list = num_list + name_list\n",
    "print(new_list)"
   ]
  },
  {
   "cell_type": "markdown",
   "id": "7df98536",
   "metadata": {},
   "source": [
    "### Appending an element"
   ]
  },
  {
   "cell_type": "code",
   "execution_count": 40,
   "id": "d7d40b3f",
   "metadata": {},
   "outputs": [
    {
     "name": "stdout",
     "output_type": "stream",
     "text": [
      "[1, 2, 3, 4, 5, 6, 7, 8, 9, 'dennis', 'yadu', 'vignesh', 'sahal', 'abhinand', 'abhay', 'roshan']\n"
     ]
    }
   ],
   "source": [
    "new_list.append(\"roshan\")\n",
    "print(new_list)"
   ]
  },
  {
   "cell_type": "code",
   "execution_count": 41,
   "id": "d46180c8",
   "metadata": {},
   "outputs": [
    {
     "data": {
      "text/plain": [
       "16"
      ]
     },
     "execution_count": 41,
     "metadata": {},
     "output_type": "execute_result"
    }
   ],
   "source": [
    "len(new_list)"
   ]
  },
  {
   "cell_type": "code",
   "execution_count": 44,
   "id": "488fad8a",
   "metadata": {},
   "outputs": [
    {
     "name": "stdout",
     "output_type": "stream",
     "text": [
      "['roshan', 'abhay', 'abhinand', 'sahal', 'vignesh', 'yadu', 'dennis', 9, 8, 7, 6, 5, 4, 3, 2, 1]\n"
     ]
    }
   ],
   "source": [
    "print(new_list[::-1])"
   ]
  },
  {
   "cell_type": "markdown",
   "id": "649831f8",
   "metadata": {},
   "source": [
    "### Popping an element off the list"
   ]
  },
  {
   "cell_type": "code",
   "execution_count": 45,
   "id": "b38232f9",
   "metadata": {},
   "outputs": [
    {
     "name": "stdout",
     "output_type": "stream",
     "text": [
      "roshan\n"
     ]
    }
   ],
   "source": [
    "popped = new_list.pop()\n",
    "print(popped)"
   ]
  },
  {
   "cell_type": "code",
   "execution_count": 46,
   "id": "128c9255",
   "metadata": {},
   "outputs": [
    {
     "name": "stdout",
     "output_type": "stream",
     "text": [
      "[1, 2, 3, 4, 5, 6, 7, 8, 9, 'dennis', 'yadu', 'vignesh', 'sahal', 'abhinand', 'abhay']\n"
     ]
    }
   ],
   "source": [
    "print(new_list)"
   ]
  },
  {
   "cell_type": "code",
   "execution_count": 58,
   "id": "cc056efa",
   "metadata": {},
   "outputs": [
    {
     "data": {
      "text/plain": [
       "[9, 8, 7, 6, 5, 4, 3, 2, 1]"
      ]
     },
     "execution_count": 58,
     "metadata": {},
     "output_type": "execute_result"
    }
   ],
   "source": [
    "num_list.reverse() #this is a non return function which performs operation in place. (it does not return anything)\n",
    "num_list"
   ]
  },
  {
   "cell_type": "code",
   "execution_count": 64,
   "id": "4f832d60",
   "metadata": {},
   "outputs": [
    {
     "name": "stdout",
     "output_type": "stream",
     "text": [
      "['abhay', 'abhinand', 'sahal', 'vignesh', 'yadu', 'dennis', 9, 8, 7, 6, 5, 4, 3, 2, 1]\n"
     ]
    }
   ],
   "source": [
    "new_list.reverse()\n",
    "print(new_list)"
   ]
  },
  {
   "cell_type": "code",
   "execution_count": 65,
   "id": "6be959ff",
   "metadata": {},
   "outputs": [
    {
     "name": "stdout",
     "output_type": "stream",
     "text": [
      "[1, 2, 3, 4, 5, 6, 7, 8, 9]\n"
     ]
    }
   ],
   "source": [
    "num_list.sort() #non return type function. performs in place operation. (same as reverse)\n",
    "print(num_list)"
   ]
  },
  {
   "cell_type": "markdown",
   "id": "a873f296",
   "metadata": {},
   "source": [
    "## Dictionary"
   ]
  },
  {
   "cell_type": "code",
   "execution_count": 1,
   "id": "691c1013",
   "metadata": {},
   "outputs": [
    {
     "name": "stdout",
     "output_type": "stream",
     "text": [
      "{'k1': 1, 'k2': 2, 'k3': 3}\n"
     ]
    }
   ],
   "source": [
    "new_dict = {'k1':1, 'k2':2, \"k3\":3} #contains a key:value pair, where the key can be called instead of a needing a index\n",
    "print(new_dict)"
   ]
  },
  {
   "cell_type": "code",
   "execution_count": 8,
   "id": "e89c1e0e",
   "metadata": {},
   "outputs": [
    {
     "name": "stdout",
     "output_type": "stream",
     "text": [
      "1\n",
      "2\n"
     ]
    }
   ],
   "source": [
    "print(new_dict['k1'])\n",
    "print(new_dict['k2'])"
   ]
  },
  {
   "cell_type": "code",
   "execution_count": 10,
   "id": "96a0ce00",
   "metadata": {},
   "outputs": [
    {
     "name": "stdout",
     "output_type": "stream",
     "text": [
      "{'key1': 11, 'key2': 22, 'key3': 33, 'key4': [1, 2, 3]}\n"
     ]
    }
   ],
   "source": [
    "my_dict = {'key1':11, 'key2':22, 'key3':33, 'key4':[1,2,3]}  #lists can be nested inside of dictionaries\n",
    "print(my_dict)"
   ]
  },
  {
   "cell_type": "code",
   "execution_count": 13,
   "id": "0efd0a91",
   "metadata": {},
   "outputs": [
    {
     "name": "stdout",
     "output_type": "stream",
     "text": [
      "11\n",
      "[1, 2, 3]\n",
      "3\n"
     ]
    }
   ],
   "source": [
    "print(my_dict['key1'])\n",
    "print(my_dict['key4'])\n",
    "print(my_dict['key4'][2])  #nested elements can be called by stacking up [key][index] of the required element\n",
    "                           #even dictionaries can be nested inside base dictionary"
   ]
  },
  {
   "cell_type": "code",
   "execution_count": 12,
   "id": "92522c8f",
   "metadata": {},
   "outputs": [
    {
     "name": "stdout",
     "output_type": "stream",
     "text": [
      "{'key1': 11, 'key2': 22, 'key3': 33, 'key4': [1, 2, 3], 'key5': 'new value'}\n"
     ]
    }
   ],
   "source": [
    "my_dict['key5'] = 'new value'\n",
    "print(my_dict)"
   ]
  },
  {
   "cell_type": "code",
   "execution_count": 17,
   "id": "01b671be",
   "metadata": {},
   "outputs": [
    {
     "name": "stdout",
     "output_type": "stream",
     "text": [
      "dict_keys(['key1', 'key2', 'key3', 'key4', 'key5'])\n",
      "dict_values([11, 22, 33, [1, 2, 3], 'new value'])\n"
     ]
    }
   ],
   "source": [
    "print(my_dict.keys())\n",
    "print(my_dict.values())"
   ]
  },
  {
   "cell_type": "markdown",
   "id": "dc2a66b9",
   "metadata": {},
   "source": [
    "## Tuples"
   ]
  },
  {
   "cell_type": "markdown",
   "id": "75534867",
   "metadata": {},
   "source": [
    "a certain index value inside a tuple will not allow its value to be altered once its declared."
   ]
  },
  {
   "cell_type": "code",
   "execution_count": 28,
   "id": "b40deb94",
   "metadata": {},
   "outputs": [
    {
     "name": "stdout",
     "output_type": "stream",
     "text": [
      "(1, 1, 2, 3)\n"
     ]
    }
   ],
   "source": [
    "t = (1, 1, 2, 3)\n",
    "print(t)"
   ]
  },
  {
   "cell_type": "code",
   "execution_count": 29,
   "id": "eafba212",
   "metadata": {},
   "outputs": [
    {
     "name": "stdout",
     "output_type": "stream",
     "text": [
      "1\n",
      "2\n"
     ]
    }
   ],
   "source": [
    "print(t[0])\n",
    "print(t[2])"
   ]
  },
  {
   "cell_type": "code",
   "execution_count": 30,
   "id": "a877815c",
   "metadata": {},
   "outputs": [
    {
     "data": {
      "text/plain": [
       "2"
      ]
     },
     "execution_count": 30,
     "metadata": {},
     "output_type": "execute_result"
    }
   ],
   "source": [
    "t.count(1)"
   ]
  },
  {
   "cell_type": "markdown",
   "id": "6d47b25e",
   "metadata": {},
   "source": [
    "## Sets"
   ]
  },
  {
   "cell_type": "markdown",
   "id": "876132c2",
   "metadata": {},
   "source": [
    "similar to list but has only one unique value of each object(does not have repeated values)"
   ]
  },
  {
   "cell_type": "code",
   "execution_count": 33,
   "id": "62e298e0",
   "metadata": {},
   "outputs": [
    {
     "data": {
      "text/plain": [
       "{1, 2, 3}"
      ]
     },
     "execution_count": 33,
     "metadata": {},
     "output_type": "execute_result"
    }
   ],
   "source": [
    "myset = set()\n",
    "myset.add(1)\n",
    "myset.add(2)\n",
    "myset.add(3)\n",
    "myset"
   ]
  },
  {
   "cell_type": "code",
   "execution_count": 35,
   "id": "b5a9afa0",
   "metadata": {},
   "outputs": [
    {
     "data": {
      "text/plain": [
       "{1, 2, 3}"
      ]
     },
     "execution_count": 35,
     "metadata": {},
     "output_type": "execute_result"
    }
   ],
   "source": [
    "myset.add(1)\n",
    "myset"
   ]
  },
  {
   "cell_type": "code",
   "execution_count": 36,
   "id": "f19a7d32",
   "metadata": {},
   "outputs": [
    {
     "data": {
      "text/plain": [
       "{1, 2, 3, 4}"
      ]
     },
     "execution_count": 36,
     "metadata": {},
     "output_type": "execute_result"
    }
   ],
   "source": [
    "mynewlist = [1,1,1,1,1,2,2,2,2,3,3,3,3,3,3,4,4,4,4,4]  #a list of repeated elements can be passed as an argument to 'set()'\n",
    "mynewset = set(mynewlist)                              #but it only makes the set with unique values.\n",
    "mynewset"
   ]
  },
  {
   "cell_type": "markdown",
   "id": "96500b41",
   "metadata": {},
   "source": [
    "## Files"
   ]
  },
  {
   "cell_type": "code",
   "execution_count": 70,
   "id": "00c9ba83",
   "metadata": {},
   "outputs": [
    {
     "name": "stdout",
     "output_type": "stream",
     "text": [
      "Overwriting myfile.txt\n"
     ]
    }
   ],
   "source": [
    "%%writefile myfile.txt    \n",
    "ONE ON FIRST\n",
    "TWO ON SECOND\n",
    "THREE ON THIRD"
   ]
  },
  {
   "cell_type": "code",
   "execution_count": 71,
   "id": "e3b351cc",
   "metadata": {},
   "outputs": [
    {
     "data": {
      "text/plain": [
       "'ONE ON FIRST\\nTWO ON SECOND\\nTHREE ON THIRD\\n'"
      ]
     },
     "execution_count": 71,
     "metadata": {},
     "output_type": "execute_result"
    }
   ],
   "source": [
    "myfile = open('myfile.txt')  #opening the created file\n",
    "myfile.read()                #reading data from the file through the assigned variable"
   ]
  },
  {
   "cell_type": "code",
   "execution_count": 72,
   "id": "c6e88ebb",
   "metadata": {},
   "outputs": [
    {
     "data": {
      "text/plain": [
       "''"
      ]
     },
     "execution_count": 72,
     "metadata": {},
     "output_type": "execute_result"
    }
   ],
   "source": [
    "myfile.read()  #as the cursor moves to the last character after every 'read', we need to redirect it to [0]"
   ]
  },
  {
   "cell_type": "code",
   "execution_count": 73,
   "id": "30f4a590",
   "metadata": {},
   "outputs": [
    {
     "data": {
      "text/plain": [
       "'ONE ON FIRST\\nTWO ON SECOND\\nTHREE ON THIRD\\n'"
      ]
     },
     "execution_count": 73,
     "metadata": {},
     "output_type": "execute_result"
    }
   ],
   "source": [
    "myfile.seek(0)  #moving cursor to [0]\n",
    "myfile.read()"
   ]
  },
  {
   "cell_type": "code",
   "execution_count": 74,
   "id": "21c94753",
   "metadata": {},
   "outputs": [
    {
     "data": {
      "text/plain": [
       "['ONE ON FIRST\\n', 'TWO ON SECOND\\n', 'THREE ON THIRD\\n']"
      ]
     },
     "execution_count": 74,
     "metadata": {},
     "output_type": "execute_result"
    }
   ],
   "source": [
    "myfile.seek(0)\n",
    "myfile.readlines()  #.readlines can be used for creating a list of each line in the file rather than a long messy string"
   ]
  },
  {
   "cell_type": "code",
   "execution_count": 75,
   "id": "0cd46b65",
   "metadata": {},
   "outputs": [],
   "source": [
    "myfile.close()  #we have to manually close the file everytime, otherwise errors will show up outside of python"
   ]
  },
  {
   "cell_type": "code",
   "execution_count": 76,
   "id": "6fe58814",
   "metadata": {},
   "outputs": [
    {
     "name": "stdout",
     "output_type": "stream",
     "text": [
      "ONE ON FIRST\n",
      "TWO ON SECOND\n",
      "THREE ON THIRD\n",
      "\n"
     ]
    }
   ],
   "source": [
    "with open('myfile.txt') as f:  #to avoid the problem of encountering problems we can use 'with' and 'as' keywords and open \n",
    "    print(f.read())            #open the required file in such a manner"
   ]
  },
  {
   "cell_type": "code",
   "execution_count": 77,
   "id": "1f627453",
   "metadata": {},
   "outputs": [
    {
     "name": "stdout",
     "output_type": "stream",
     "text": [
      "['ONE ON FIRST\\n', 'TWO ON SECOND\\n', 'THREE ON THIRD\\n']\n"
     ]
    }
   ],
   "source": [
    "with open('myfile.txt') as f:\n",
    "    print(f.readlines())\n",
    "    \n"
   ]
  },
  {
   "cell_type": "code",
   "execution_count": 78,
   "id": "060bdd23",
   "metadata": {},
   "outputs": [],
   "source": [
    "with open('myfile.txt', mode='r') as g:  #the 'mode' of a file operation can be specified in the 'open()'\n",
    "    content = g.read()"
   ]
  },
  {
   "cell_type": "code",
   "execution_count": 79,
   "id": "7d102e29",
   "metadata": {},
   "outputs": [
    {
     "data": {
      "text/plain": [
       "'ONE ON FIRST\\nTWO ON SECOND\\nTHREE ON THIRD\\n'"
      ]
     },
     "execution_count": 79,
     "metadata": {},
     "output_type": "execute_result"
    }
   ],
   "source": [
    "content"
   ]
  },
  {
   "cell_type": "code",
   "execution_count": 80,
   "id": "a4015fc5",
   "metadata": {},
   "outputs": [],
   "source": [
    "with open('myfile.txt', mode='a') as g:  #mode 'a' refers to append, which lets us append more data to end of the file\n",
    "    g.write('FOUR ON FOURTH')\n",
    "    "
   ]
  },
  {
   "cell_type": "code",
   "execution_count": 81,
   "id": "68a24cf2",
   "metadata": {},
   "outputs": [
    {
     "name": "stdout",
     "output_type": "stream",
     "text": [
      "ONE ON FIRST\n",
      "TWO ON SECOND\n",
      "THREE ON THIRD\n",
      "FOUR ON FOURTH\n"
     ]
    }
   ],
   "source": [
    "with open('myfile.txt', mode = 'r') as g:  \n",
    "    data = g.read()\n",
    "    print(data)"
   ]
  },
  {
   "cell_type": "code",
   "execution_count": 82,
   "id": "1f4e087e",
   "metadata": {},
   "outputs": [],
   "source": [
    "with open('orugbgerunuerno.txt', mode='w') as w:  #mode 'w' lets us overwrite or create new files with the name we provide.\n",
    "    w.write(\"new file done!\")"
   ]
  },
  {
   "cell_type": "code",
   "execution_count": 84,
   "id": "4e9cecbd",
   "metadata": {},
   "outputs": [
    {
     "name": "stdout",
     "output_type": "stream",
     "text": [
      "new file done!\n"
     ]
    }
   ],
   "source": [
    "with open('orugbgerunuerno.txt', mode='r') as r:\n",
    "    print(r.read())"
   ]
  },
  {
   "cell_type": "markdown",
   "id": "47f75a2d",
   "metadata": {},
   "source": [
    "## Logical and comparison operators"
   ]
  },
  {
   "cell_type": "code",
   "execution_count": 85,
   "id": "7ab402cd",
   "metadata": {},
   "outputs": [
    {
     "data": {
      "text/plain": [
       "True"
      ]
     },
     "execution_count": 85,
     "metadata": {},
     "output_type": "execute_result"
    }
   ],
   "source": [
    "(1<2) and (2<3)"
   ]
  },
  {
   "cell_type": "code",
   "execution_count": 86,
   "id": "d8227806",
   "metadata": {},
   "outputs": [
    {
     "data": {
      "text/plain": [
       "True"
      ]
     },
     "execution_count": 86,
     "metadata": {},
     "output_type": "execute_result"
    }
   ],
   "source": [
    "(1<2) or (2>3)"
   ]
  },
  {
   "cell_type": "code",
   "execution_count": 87,
   "id": "b3311d67",
   "metadata": {},
   "outputs": [
    {
     "data": {
      "text/plain": [
       "False"
      ]
     },
     "execution_count": 87,
     "metadata": {},
     "output_type": "execute_result"
    }
   ],
   "source": [
    "(1<2) and (2>3)"
   ]
  },
  {
   "cell_type": "code",
   "execution_count": 88,
   "id": "35240a45",
   "metadata": {},
   "outputs": [
    {
     "data": {
      "text/plain": [
       "False"
      ]
     },
     "execution_count": 88,
     "metadata": {},
     "output_type": "execute_result"
    }
   ],
   "source": [
    "(1==1) and (2==3)"
   ]
  },
  {
   "cell_type": "code",
   "execution_count": 90,
   "id": "5e877320",
   "metadata": {},
   "outputs": [
    {
     "data": {
      "text/plain": [
       "False"
      ]
     },
     "execution_count": 90,
     "metadata": {},
     "output_type": "execute_result"
    }
   ],
   "source": [
    "not(1==1)  #returns the opposite boolean of the statement"
   ]
  },
  {
   "cell_type": "markdown",
   "id": "d18133cb",
   "metadata": {},
   "source": [
    "## If, elif and else "
   ]
  },
  {
   "cell_type": "code",
   "execution_count": 95,
   "id": "920d17f0",
   "metadata": {},
   "outputs": [
    {
     "name": "stdout",
     "output_type": "stream",
     "text": [
      "Enter your age :\n",
      "1\n",
      "\n",
      "You are underage, you are only 1 years old!\n"
     ]
    }
   ],
   "source": [
    "age = int(input(\"Enter your age :\\n\"))\n",
    "\n",
    "if (age>=18):\n",
    "    print(f\"\\nYou are legal, you are {age} years old!\")\n",
    "else:\n",
    "    print(f\"\\nYou are underage, you are only {age} years old!\")"
   ]
  },
  {
   "cell_type": "markdown",
   "id": "a853b305",
   "metadata": {},
   "source": [
    "## For Loop"
   ]
  },
  {
   "cell_type": "code",
   "execution_count": 105,
   "id": "0de035f1",
   "metadata": {},
   "outputs": [
    {
     "name": "stdout",
     "output_type": "stream",
     "text": [
      "day 0\n",
      "day 1\n",
      "day 2\n",
      "day 3\n",
      "day 4\n",
      "day 5\n",
      "day 6\n"
     ]
    }
   ],
   "source": [
    "for i in range(7):\n",
    "    print(f'day {i}')"
   ]
  },
  {
   "cell_type": "code",
   "execution_count": 108,
   "id": "d61868e4",
   "metadata": {},
   "outputs": [
    {
     "name": "stdout",
     "output_type": "stream",
     "text": [
      "\n",
      "The sum after stage 1 is 1.\n",
      "\n",
      "The sum after stage 2 is 3.\n",
      "\n",
      "The sum after stage 3 is 6.\n",
      "\n",
      "The sum after stage 4 is 10.\n",
      "\n",
      "The sum after stage 5 is 15.\n",
      "\n",
      "The sum after stage 6 is 21.\n",
      "\n",
      "The sum after stage 7 is 28.\n",
      "\n",
      "The sum after stage 8 is 36.\n",
      "\n",
      "The sum after stage 9 is 45.\n",
      "\n",
      "The sum after stage 10 is 55.\n",
      "\n",
      "Final sum = 55\n"
     ]
    }
   ],
   "source": [
    "sum = 0\n",
    "\n",
    "for j in range(11):\n",
    "    if (j>0):\n",
    "        sum=sum+j\n",
    "        print(f\"\\nThe sum after stage {j} is {sum}.\")\n",
    "\n",
    "print(f\"\\nFinal sum = {sum}\")\n",
    "          "
   ]
  },
  {
   "cell_type": "code",
   "execution_count": 118,
   "id": "e7350896",
   "metadata": {},
   "outputs": [
    {
     "name": "stdout",
     "output_type": "stream",
     "text": [
      "(1,2), after unpacking 1 and 2\n",
      "(3,4), after unpacking 3 and 4\n",
      "(5,6), after unpacking 5 and 6\n"
     ]
    }
   ],
   "source": [
    "fortups = [(1,2), (3,4), (5,6)]\n",
    "\n",
    "for (a,b) in fortups:\n",
    "    print(f\"({a},{b}), after unpacking {a} and {b}\")"
   ]
  },
  {
   "cell_type": "markdown",
   "id": "c695978a",
   "metadata": {},
   "source": [
    "## While Loop"
   ]
  },
  {
   "cell_type": "code",
   "execution_count": 2,
   "id": "c1b5b395",
   "metadata": {},
   "outputs": [
    {
     "name": "stdout",
     "output_type": "stream",
     "text": [
      "current value of x = 0\n",
      "current value of x = 1\n",
      "current value of x = 2\n",
      "current value of x = 3\n",
      "current value of x = 4\n",
      "value greater than 5\n"
     ]
    }
   ],
   "source": [
    "n = 0\n",
    "\n",
    "while (n<5):                                       #The while loop uses a boolean checker as its constraint\n",
    "    print(f\"current value of x = {n}\")\n",
    "    n=n+1                                          #Unlike for loop, here the increment is to be passed by the programmer\n",
    "else:\n",
    "    print(\"value greater than 5\")"
   ]
  },
  {
   "cell_type": "markdown",
   "id": "5b3c5be9",
   "metadata": {},
   "source": [
    "### break, continue & pass statements"
   ]
  },
  {
   "cell_type": "code",
   "execution_count": 6,
   "id": "d1b8832e",
   "metadata": {},
   "outputs": [
    {
     "name": "stdout",
     "output_type": "stream",
     "text": [
      "pass checked\n"
     ]
    }
   ],
   "source": [
    "#pass statement\n",
    "\n",
    "l = [1, 2, 3, 4, 5, 6, 7, 8, 9]\n",
    "\n",
    "for i in l:\n",
    "    #print(i)    #pass lets us keep a loop as a placeholder for future use, as we cannot just comment inside the loop \n",
    "    pass\n",
    "\n",
    "print(\"pass checked\")"
   ]
  },
  {
   "cell_type": "code",
   "execution_count": 11,
   "id": "0a08850b",
   "metadata": {},
   "outputs": [
    {
     "name": "stdout",
     "output_type": "stream",
     "text": [
      "N\n",
      "a\n",
      "r\n",
      "t\n",
      "o\n"
     ]
    }
   ],
   "source": [
    "#continue statement\n",
    "\n",
    "mename = \"Naruto\"\n",
    "\n",
    "for i in mename:\n",
    "    if (i=='u'):\n",
    "        continue     #continue can be used to skip any element that you pass into it and return back to loop operation\n",
    "    print(i)         #in this case the letter was 'u', therefore the output is 'Narto'"
   ]
  },
  {
   "cell_type": "code",
   "execution_count": 17,
   "id": "33562430",
   "metadata": {},
   "outputs": [
    {
     "name": "stdout",
     "output_type": "stream",
     "text": [
      "1\n",
      "2\n",
      "3\n",
      "4\n",
      "5\n"
     ]
    }
   ],
   "source": [
    "#break statement\n",
    "\n",
    "for lo in range(1,11):\n",
    "    if (lo>5):\n",
    "        break      #break statement, breaks out of the whole loop and continues the rest of the porgram sequentially \n",
    "    print(lo)"
   ]
  },
  {
   "cell_type": "code",
   "execution_count": 19,
   "id": "ebf263ec",
   "metadata": {},
   "outputs": [
    {
     "name": "stdout",
     "output_type": "stream",
     "text": [
      "1\n",
      "2\n",
      "Fizz\n",
      "4\n",
      "Buzz\n",
      "Fizz\n",
      "7\n",
      "8\n",
      "Fizz\n",
      "Buzz\n",
      "11\n",
      "Fizz\n",
      "13\n",
      "14\n",
      "FizzBuzz\n",
      "16\n",
      "17\n",
      "Fizz\n",
      "19\n",
      "Buzz\n",
      "Fizz\n",
      "22\n",
      "23\n",
      "Fizz\n",
      "Buzz\n",
      "26\n",
      "Fizz\n",
      "28\n",
      "29\n",
      "FizzBuzz\n",
      "31\n",
      "32\n",
      "Fizz\n",
      "34\n",
      "Buzz\n",
      "Fizz\n",
      "37\n",
      "38\n",
      "Fizz\n",
      "Buzz\n",
      "41\n",
      "Fizz\n",
      "43\n",
      "44\n",
      "FizzBuzz\n",
      "46\n",
      "47\n",
      "Fizz\n",
      "49\n",
      "Buzz\n",
      "Fizz\n",
      "52\n",
      "53\n",
      "Fizz\n",
      "Buzz\n",
      "56\n",
      "Fizz\n",
      "58\n",
      "59\n",
      "FizzBuzz\n",
      "61\n",
      "62\n",
      "Fizz\n",
      "64\n",
      "Buzz\n",
      "Fizz\n",
      "67\n",
      "68\n",
      "Fizz\n",
      "Buzz\n",
      "71\n",
      "Fizz\n",
      "73\n",
      "74\n",
      "FizzBuzz\n",
      "76\n",
      "77\n",
      "Fizz\n",
      "79\n",
      "Buzz\n",
      "Fizz\n",
      "82\n",
      "83\n",
      "Fizz\n",
      "Buzz\n",
      "86\n",
      "Fizz\n",
      "88\n",
      "89\n",
      "FizzBuzz\n",
      "91\n",
      "92\n",
      "Fizz\n",
      "94\n",
      "Buzz\n",
      "Fizz\n",
      "97\n",
      "98\n",
      "Fizz\n",
      "Buzz\n"
     ]
    }
   ],
   "source": [
    "for i in range(1,101):\n",
    "    if (i%3==0) and (i%5==0):\n",
    "        print(\"FizzBuzz\")\n",
    "    elif (i%3==0):\n",
    "        print(\"Fizz\")\n",
    "    elif (i%5==0):\n",
    "        print(\"Buzz\")\n",
    "    else:\n",
    "        print(i)\n",
    "    "
   ]
  },
  {
   "cell_type": "code",
   "execution_count": 1,
   "id": "1261ce95",
   "metadata": {},
   "outputs": [
    {
     "name": "stdout",
     "output_type": "stream",
     "text": [
      "8\n",
      "18\n",
      "122\n"
     ]
    }
   ],
   "source": [
    "print(8)\n",
    "print(18)\n",
    "print(122)"
   ]
  },
  {
   "cell_type": "code",
   "execution_count": 3,
   "id": "d9dd4d50",
   "metadata": {},
   "outputs": [
    {
     "name": "stdout",
     "output_type": "stream",
     "text": [
      "5\n",
      "0\n",
      "1\n",
      "4\n",
      "9\n",
      "16\n"
     ]
    }
   ],
   "source": [
    "n = int(input())\n",
    "\n",
    "for i in range(0,n):\n",
    "    print(i**2)"
   ]
  },
  {
   "cell_type": "markdown",
   "id": "8599dd1c",
   "metadata": {},
   "source": [
    "## Functions"
   ]
  },
  {
   "cell_type": "code",
   "execution_count": 5,
   "id": "9aa1146b",
   "metadata": {},
   "outputs": [
    {
     "name": "stdout",
     "output_type": "stream",
     "text": [
      "hello!\n"
     ]
    }
   ],
   "source": [
    "def my_first_function():\n",
    "    \n",
    "    \"\"\"\n",
    "    This is the syntax of a function definition in python\n",
    "    \"\"\"\n",
    "    print(\"hello!\")\n",
    "    \n",
    "my_first_function()   #the defined function is called."
   ]
  },
  {
   "cell_type": "code",
   "execution_count": 9,
   "id": "b777d4b2",
   "metadata": {},
   "outputs": [
    {
     "name": "stdout",
     "output_type": "stream",
     "text": [
      "enter the first number : 5\n",
      "enter the second number : 5\n",
      "Result after adding 5 + 5 = 10\n",
      "Result after multiplyinig 5 * 5 = 25\n",
      "\n",
      "End of program!\n"
     ]
    }
   ],
   "source": [
    "a = int(input(\"enter the first number : \"))\n",
    "b = int(input(\"enter the second number : \"))\n",
    "\n",
    "def sum_of_numbers(first,second):\n",
    "    \n",
    "    \"\"\"\n",
    "    function returns the sum of two numbers.\n",
    "    \"\"\"\n",
    "    \n",
    "    add = first+second\n",
    "    return add\n",
    "\n",
    "def product_of_numbers(one,two):\n",
    "    \n",
    "    \"\"\"\n",
    "    function returns the product of two numbers.\n",
    "    \"\"\"\n",
    "    \n",
    "    pro = one*two\n",
    "    return pro\n",
    "\n",
    "addition = sum_of_numbers(a,b)\n",
    "product = product_of_numbers(a,b)\n",
    "\n",
    "print(f\"Result after adding {a} + {b} = {addition}\")\n",
    "print(f\"Result after multiplyinig {a} * {b} = {product}\")\n",
    "print(\"\\nEnd of program!\")"
   ]
  },
  {
   "cell_type": "code",
   "execution_count": null,
   "id": "1bfde6bc",
   "metadata": {},
   "outputs": [],
   "source": []
  }
 ],
 "metadata": {
  "interpreter": {
   "hash": "a715d262319be91fa006ac780a17bfcf1ca8b4f871686029ebe6de897f4fc53e"
  },
  "kernelspec": {
   "display_name": "Python 3 (ipykernel)",
   "language": "python",
   "name": "python3"
  },
  "language_info": {
   "codemirror_mode": {
    "name": "ipython",
    "version": 3
   },
   "file_extension": ".py",
   "mimetype": "text/x-python",
   "name": "python",
   "nbconvert_exporter": "python",
   "pygments_lexer": "ipython3",
   "version": "3.9.12"
  }
 },
 "nbformat": 4,
 "nbformat_minor": 5
}
